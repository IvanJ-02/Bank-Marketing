{
  "cells": [
    {
      "cell_type": "markdown",
      "metadata": {
        "id": "view-in-github",
        "colab_type": "text"
      },
      "source": [
        "<a href=\"https://colab.research.google.com/github/IvanJ-02/Bank-Marketing/blob/main/Mod%C3%A8le_DeepLearning_Bank_marketing.ipynb\" target=\"_parent\"><img src=\"https://colab.research.google.com/assets/colab-badge.svg\" alt=\"Open In Colab\"/></a>"
      ]
    },
    {
      "cell_type": "markdown",
      "source": [
        "## 1. Import du jeu de données\n"
      ],
      "metadata": {
        "id": "1F6mAE_MQTsK"
      }
    },
    {
      "cell_type": "code",
      "execution_count": null,
      "metadata": {
        "id": "6-3tFaIaFxDy"
      },
      "outputs": [],
      "source": [
        "# 1\n",
        "\n",
        "import pandas as pd\n",
        "import matplotlib.pyplot as plt\n",
        "\n",
        "from sklearn.model_selection import train_test_split\n",
        "from sklearn.preprocessing import StandardScaler\n",
        "from sklearn.preprocessing import LabelEncoder\n",
        "\n",
        "\n",
        "def plot_history(history):\n",
        "    plt.plot(history.history['accuracy'])\n",
        "    plt.plot(history.history['val_accuracy'])\n",
        "    plt.title('Accuracy')\n",
        "    plt.ylabel('Accuracy')\n",
        "    plt.xlabel('Epoch')\n",
        "    plt.legend(['train', 'val'], loc='upper left')\n",
        "    plt.show()\n",
        "\n",
        "\n",
        "file_path = 'train.csv'\n",
        "\n",
        "\n",
        "# Import du jeu de données\n",
        "df = pd.read_csv(file_path)\n",
        "\n",
        "X = df.drop(['ID', 'contact', 'month', 'day', 'y'], axis=1)\n",
        "y = df['y']\n",
        "\n",
        "# Encodage des variables catégorielles\n",
        "le = LabelEncoder()\n",
        "X['job'] = le.fit_transform(X['job'])\n",
        "X['marital'] = le.fit_transform(X['marital'])\n",
        "X['education'] = le.fit_transform(X['education'])\n",
        "X['default'] = le.fit_transform(X['default'])\n",
        "X['housing'] = le.fit_transform(X['housing'])\n",
        "X['loan'] = le.fit_transform(X['loan'])\n",
        "X['poutcome'] = le.fit_transform(X['poutcome'])\n",
        "\n",
        "y = le.fit_transform(y)\n",
        "\n",
        "# Normalisation des données\n",
        "sc = StandardScaler()\n",
        "X = sc.fit_transform(X)\n",
        "\n",
        "# Séparer les données en train et test\n",
        "X_train, X_test, y_train, y_test = train_test_split(X, y, test_size=0.2, random_state=42)\n"
      ]
    },
    {
      "cell_type": "markdown",
      "source": [
        "### Commentaires :\n",
        "\n",
        "Pour commencer, nous allons importer les librairies nécessaires et charger le jeu de données \"Bank Marketing\" en utilisant la fonction read_csv de pandas. \n"
      ],
      "metadata": {
        "id": "Uhe7krMqTqpL"
      }
    },
    {
      "cell_type": "markdown",
      "source": [
        "## 2. Création du réseau de neuronnes profond"
      ],
      "metadata": {
        "id": "BPXq_3tZQmhQ"
      }
    },
    {
      "cell_type": "code",
      "execution_count": null,
      "metadata": {
        "colab": {
          "base_uri": "https://localhost:8080/"
        },
        "id": "Nt8PV-VPGkHG",
        "outputId": "f3b0c490-ed4e-47ee-8ae5-03a8080905d5"
      },
      "outputs": [
        {
          "output_type": "stream",
          "name": "stdout",
          "text": [
            "Model: \"sequential_1\"\n",
            "_________________________________________________________________\n",
            " Layer (type)                Output Shape              Param #   \n",
            "=================================================================\n",
            " dense_4 (Dense)             (None, 10)                130       \n",
            "                                                                 \n",
            " dense_5 (Dense)             (None, 10)                110       \n",
            "                                                                 \n",
            " dense_6 (Dense)             (None, 10)                110       \n",
            "                                                                 \n",
            " dense_7 (Dense)             (None, 1)                 11        \n",
            "                                                                 \n",
            "=================================================================\n",
            "Total params: 361\n",
            "Trainable params: 361\n",
            "Non-trainable params: 0\n",
            "_________________________________________________________________\n"
          ]
        }
      ],
      "source": [
        "# 2\n",
        "\n",
        "from tensorflow import keras\n",
        "\n",
        "model = keras.Sequential([\n",
        "    keras.layers.Dense(10, activation='relu', input_shape=(X_train.shape[1],)),\n",
        "    keras.layers.Dense(10, activation='relu'),\n",
        "    keras.layers.Dense(10, activation='relu'),\n",
        "    keras.layers.Dense(1, activation='sigmoid')\n",
        "])\n",
        "\n",
        "model.summary()\n"
      ]
    },
    {
      "cell_type": "markdown",
      "source": [
        "### Commentaires :\n",
        "\n",
        "Le modèle contient 3 couches cachées de 10 neurones chacune, tous les neurones ont une fonction d'activation de relecture. La couche de sortie contient 1 neurone avec une fonction d'activation sigmoïde. La forme de l'entrée est définie par la forme de X_train. La méthode summary() affiche les détails du modèle.\n"
      ],
      "metadata": {
        "id": "NpA7_sbcUB4g"
      }
    },
    {
      "cell_type": "markdown",
      "source": [
        "## 3. Compilation du modèle"
      ],
      "metadata": {
        "id": "JpMa0nEESCV_"
      }
    },
    {
      "cell_type": "code",
      "source": [
        "# 3\n",
        "\n",
        "model.compile(optimizer='adam', loss='binary_crossentropy', metrics=['accuracy'])\n"
      ],
      "metadata": {
        "id": "ABI4FSPKLgoj"
      },
      "execution_count": null,
      "outputs": []
    },
    {
      "cell_type": "markdown",
      "source": [
        "### Commentaires :\n",
        "\n",
        "Ici, nous utilisons l'optimiseur Adam, un algorithme d'optimisation stochastique populaire pour les réseaux de neurones profonds. Nous utilisons également la fonction de perte binary_crossentropy adaptée aux problèmes de classification binaire. Enfin, nous utilisons la métrique de précision pour évaluer les performances du modèle.\n",
        "\n"
      ],
      "metadata": {
        "id": "8TYBjmScUEDh"
      }
    },
    {
      "cell_type": "markdown",
      "source": [
        "## 4. Entraînement du modèle"
      ],
      "metadata": {
        "id": "WyLmABkxSNXw"
      }
    },
    {
      "cell_type": "code",
      "source": [
        "# 4\n",
        "\n",
        "history = model.fit(X_train, y_train, validation_data=(X_test, y_test), epochs=10, batch_size=32)\n"
      ],
      "metadata": {
        "id": "wMPeF5CBLsg0",
        "colab": {
          "base_uri": "https://localhost:8080/"
        },
        "outputId": "a021cadc-a609-49db-c1cc-a4ec01a96de8"
      },
      "execution_count": null,
      "outputs": [
        {
          "output_type": "stream",
          "name": "stdout",
          "text": [
            "Epoch 1/10\n",
            "322/322 [==============================] - 3s 4ms/step - loss: 0.6117 - accuracy: 0.6888 - val_loss: 0.5663 - val_accuracy: 0.7308\n",
            "Epoch 2/10\n",
            "322/322 [==============================] - 2s 7ms/step - loss: 0.5687 - accuracy: 0.7243 - val_loss: 0.5552 - val_accuracy: 0.7463\n",
            "Epoch 3/10\n",
            "322/322 [==============================] - 2s 5ms/step - loss: 0.5581 - accuracy: 0.7348 - val_loss: 0.5497 - val_accuracy: 0.7409\n",
            "Epoch 4/10\n",
            "322/322 [==============================] - 1s 3ms/step - loss: 0.5520 - accuracy: 0.7357 - val_loss: 0.5404 - val_accuracy: 0.7517\n",
            "Epoch 5/10\n",
            "322/322 [==============================] - 1s 4ms/step - loss: 0.5476 - accuracy: 0.7398 - val_loss: 0.5363 - val_accuracy: 0.7529\n",
            "Epoch 6/10\n",
            "322/322 [==============================] - 1s 3ms/step - loss: 0.5439 - accuracy: 0.7424 - val_loss: 0.5330 - val_accuracy: 0.7552\n",
            "Epoch 7/10\n",
            "322/322 [==============================] - 1s 3ms/step - loss: 0.5409 - accuracy: 0.7448 - val_loss: 0.5308 - val_accuracy: 0.7564\n",
            "Epoch 8/10\n",
            "322/322 [==============================] - 1s 2ms/step - loss: 0.5385 - accuracy: 0.7489 - val_loss: 0.5315 - val_accuracy: 0.7541\n",
            "Epoch 9/10\n",
            "322/322 [==============================] - 1s 2ms/step - loss: 0.5366 - accuracy: 0.7488 - val_loss: 0.5275 - val_accuracy: 0.7595\n",
            "Epoch 10/10\n",
            "322/322 [==============================] - 1s 2ms/step - loss: 0.5349 - accuracy: 0.7507 - val_loss: 0.5283 - val_accuracy: 0.7552\n"
          ]
        }
      ]
    },
    {
      "cell_type": "markdown",
      "source": [
        "### Commentaires :\n",
        "\n",
        "Cela formera le modèle pour 10 époques avec une taille de lot de 32. Les données de validation sont fournies par validation_data=(X_test, y_test) et la sortie de formation sera affichée avec verbose=1. L'historique d'entraînement sera stocké dans la variable d'historique.\n"
      ],
      "metadata": {
        "id": "m1rZvhXkUFNh"
      }
    },
    {
      "cell_type": "markdown",
      "source": [
        "## 5. Affichage de l'historique de l'entraînement"
      ],
      "metadata": {
        "id": "nUvjPbLwSani"
      }
    },
    {
      "cell_type": "code",
      "source": [
        "# 5\n",
        "\n",
        "import matplotlib.pyplot as plt\n",
        "\n",
        "# Plot training & validation accuracy values\n",
        "plt.plot(history.history['accuracy'])\n",
        "plt.plot(history.history['val_accuracy'])\n",
        "plt.title('Model accuracy')\n",
        "plt.ylabel('Accuracy')\n",
        "plt.xlabel('Epoch')\n",
        "plt.legend(['Train', 'Test'], loc='upper left')\n",
        "plt.show()\n",
        "\n",
        "# Plot training & validation loss values\n",
        "plt.plot(history.history['loss'])\n",
        "plt.plot(history.history['val_loss'])\n",
        "plt.title('Model loss')\n",
        "plt.ylabel('Loss')\n",
        "plt.xlabel('Epoch')\n",
        "plt.legend(['Train', 'Test'], loc='upper left')\n",
        "plt.show()\n"
      ],
      "metadata": {
        "id": "X4rQaVgfL8dz",
        "colab": {
          "base_uri": "https://localhost:8080/",
          "height": 927
        },
        "outputId": "498fc966-d981-4685-d771-7ec8bbe854e8"
      },
      "execution_count": null,
      "outputs": [
        {
          "output_type": "display_data",
          "data": {
            "text/plain": [
              "<Figure size 640x480 with 1 Axes>"
            ],
            "image/png": "[encoded data removed]"
          },
          "metadata": {}
        },
        {
          "output_type": "display_data",
          "data": {
            "text/plain": [
              "<Figure size 640x480 with 1 Axes>"
            ],
            "image/png": "[encoded data removed]"
          },
          "metadata": {}
        }
      ]
    },
    {
      "cell_type": "markdown",
      "source": [
        "### Commentaires :\n",
        "\n",
        "Cela trace deux graphiques : un pour la précision et un pour la perte sur les données d'entraînement et de test."
      ],
      "metadata": {
        "id": "I4nHgF5cUH34"
      }
    },
    {
      "cell_type": "markdown",
      "source": [
        "## 6. Prédictions du modèle sur les données de test"
      ],
      "metadata": {
        "id": "xDDLxOt8SneZ"
      }
    },
    {
      "cell_type": "code",
      "source": [
        "# 6\n",
        "\n",
        "from sklearn.metrics import accuracy_score\n",
        "\n",
        "# Prédictions du modèle sur les données de test\n",
        "y_pred = model.predict(X_test)\n",
        "# Convertir les prédictions en 0 ou 1 avec un seuil de 0.5\n",
        "y_pred = [1 if p>=0.5 else 0 for p in y_pred]\n",
        "\n",
        "# Calcul de l'accuracy\n",
        "accuracy = accuracy_score(y_test, y_pred)\n",
        "print(\"Accuracy :\", accuracy)\n"
      ],
      "metadata": {
        "id": "JZhZ9jtlMKKN",
        "colab": {
          "base_uri": "https://localhost:8080/"
        },
        "outputId": "7912f541-dcf7-4d47-9cf0-45f1178a737f"
      },
      "execution_count": null,
      "outputs": [
        {
          "output_type": "stream",
          "name": "stdout",
          "text": [
            "81/81 [==============================] - 0s 1ms/step\n",
            "Accuracy : 0.7552447552447552\n"
          ]
        }
      ]
    },
    {
      "cell_type": "markdown",
      "source": [
        "### Commentaires :\n",
        "\n",
        "Ici, nous utilisons la fonction precision_score de la bibliothèque sklearn.metrics pour calculer la précision du modèle. Nous obtenons d'abord les prédictions du modèle sur les données de test en utilisant la méthode de prédiction. Nous utilisons ensuite une compréhension de liste pour convertir les prédictions en 0 ou 1 avec un seuil de 0,5. Enfin, la précision est calculée en comparant la valeur prédite obtenue avec la valeur réelle de y_test.\n"
      ],
      "metadata": {
        "id": "quSSo24IUJK9"
      }
    },
    {
      "cell_type": "markdown",
      "source": [
        "## 7. Affichage des poids du modèle"
      ],
      "metadata": {
        "id": "L1NbTk3zSw33"
      }
    },
    {
      "cell_type": "code",
      "source": [
        "# 7\n",
        "\n",
        "weights = model.get_weights()\n",
        "for i, w in enumerate(weights):\n",
        "    print(\"Layer {}: {}\\n\".format(i, w))\n"
      ],
      "metadata": {
        "id": "qKvwJ1EFMeXW",
        "colab": {
          "base_uri": "https://localhost:8080/"
        },
        "outputId": "b47e5ffd-84e7-40a7-e1ef-6db8e4a75e0e"
      },
      "execution_count": null,
      "outputs": [
        {
          "output_type": "stream",
          "name": "stdout",
          "text": [
            "Layer 0: [[-0.11617386  0.6530422  -0.12392082 -0.02937577 -0.35303497  0.16307911\n",
            "  -0.11446366  0.22494105 -0.4864202   0.55890536]\n",
            " [ 0.16428764 -0.01558037  0.06161024 -0.21321897  0.28840458  0.10092346\n",
            "  -0.10444756  0.03003933 -0.45471555  0.1647177 ]\n",
            " [-0.04845716 -0.15600464 -0.22974592 -0.30741897  0.33974713 -0.17031223\n",
            "  -0.33868515  0.13119969  0.3925203  -0.4301869 ]\n",
            " [ 0.0909358  -0.40528396  0.14592735 -0.37148476  0.08471413 -0.4658803\n",
            "  -0.19848281  0.04364191 -0.32291183  0.0848301 ]\n",
            " [-0.21919629  0.2518162  -0.17573354 -0.00647824  0.21282703  0.4626907\n",
            "   0.03676855  0.50870377  0.12818862 -0.12980667]\n",
            " [-0.02164831 -0.12475442  0.0416967  -0.45092458  0.09232597 -0.4797757\n",
            "   0.10986128  0.4836198   0.10152986  0.28260222]\n",
            " [ 0.0109852   0.17913283 -0.4566073   0.36347407  0.0711184  -0.27424958\n",
            "   0.44138613  0.707028   -0.35629615  0.03517308]\n",
            " [-0.0030306  -0.06930511 -0.09697025 -0.33488497 -0.4190448   0.49559742\n",
            "   0.40727434 -0.02898627  0.4762682   0.10049462]\n",
            " [ 0.12312164 -0.13002595 -0.73638165  0.59424907  0.29551062  0.13853537\n",
            "  -0.29416192 -0.27022883 -0.18540935 -0.16342415]\n",
            " [-0.87513715  0.27757993  0.5141229  -0.08425322  0.0742924  -0.22774224\n",
            "   0.20513739 -0.07057816 -0.03303592  0.81331563]\n",
            " [-0.5040363  -0.44669944  0.3000827  -0.7158581   0.20467333  0.19694152\n",
            "   0.12823346  0.12230244  0.18915689  0.3140898 ]\n",
            " [ 0.70378906 -0.24863102  0.47487438 -0.42360055 -0.5679277   0.2698925\n",
            "  -0.45701194  0.29364356  0.2204347  -0.19235988]]\n",
            "\n",
            "Layer 1: [ 0.384337   -0.07132725  0.24073835  0.11459447  0.11697114  0.1717642\n",
            "  0.16285606  0.12646687  0.06821039  0.03799492]\n",
            "\n",
            "Layer 2: [[-0.22164568 -0.15258668  0.27683058 -0.08336721 -0.2717036   0.66769415\n",
            "  -0.2876099   0.39030305  0.24449985  0.21925633]\n",
            " [ 0.53678507 -0.11933989  0.11367071 -0.28980237 -0.05567724 -0.22675662\n",
            "   0.36475128  0.17510736 -0.04848853 -0.1217521 ]\n",
            " [ 0.5697292  -0.04698315  0.5487809   0.0127575  -0.5215993   0.3758842\n",
            "  -0.19776507  0.00123535 -0.12466473  0.34913325]\n",
            " [-0.41381544 -0.28205305  0.13185346 -0.44934756  0.39290076 -0.11055026\n",
            "  -0.18927205  0.67299175 -0.2016569  -0.46856475]\n",
            " [ 0.45957848 -0.52520096  0.25531864  0.32499418  0.2786422   0.32720208\n",
            "  -0.21293063  0.34453094 -0.39977115  0.4765599 ]\n",
            " [-0.02537902 -0.02489064  0.34924245 -0.00932616 -0.16864203  0.06843714\n",
            "   0.4423706   0.28376383  0.5444652  -0.43641305]\n",
            " [ 0.06094735 -0.25851437 -0.5163377  -0.10127223  0.27026588  0.58198816\n",
            "  -0.35320082 -0.06889123 -0.22122365 -0.4398095 ]\n",
            " [ 0.13573255 -0.40227622 -0.00891677 -0.06512965 -0.36638603  0.45490956\n",
            "   0.27922523  0.32873964  0.57701194  0.45797235]\n",
            " [ 0.12154063 -0.0541578  -0.20082675  0.6028278   0.42437705 -0.19846565\n",
            "  -0.33139476  0.41523966  0.35841277  0.2402472 ]\n",
            " [ 0.10291372  0.4532363  -0.33084446 -0.5318029   0.399964   -0.26840863\n",
            "   0.0926834  -0.38804346 -0.5237597  -0.6499613 ]]\n",
            "\n",
            "Layer 3: [ 0.1194791   0.18526979  0.22433203  0.07143825 -0.06290809  0.12600252\n",
            " -0.1506561   0.17723209  0.2599989  -0.00796439]\n",
            "\n",
            "Layer 4: [[ 4.7406670e-01 -8.0949999e-02  5.8395523e-01 -5.9819120e-01\n",
            "  -5.4879848e-02 -8.3681427e-02  4.8136417e-04 -4.7450596e-01\n",
            "   2.5447914e-01 -1.0961919e-01]\n",
            " [ 9.3661338e-02 -3.6238086e-01  3.7106752e-01  2.0525651e-01\n",
            "  -3.4438789e-01 -4.5116517e-01  3.4367216e-01 -4.4797626e-01\n",
            "  -4.1344926e-01  4.1218767e-01]\n",
            " [ 5.0795043e-01 -5.6257207e-02 -1.8197167e-01  5.3515816e-01\n",
            "   4.7808602e-02  4.4367846e-02  1.7895351e-01  1.4950818e-01\n",
            "   8.8811271e-02 -3.1819716e-02]\n",
            " [-6.1655868e-02  6.3841635e-01  3.5486612e-01 -4.1706619e-01\n",
            "  -2.3288846e-01  2.2283286e-01 -9.9259898e-02 -2.5409913e-01\n",
            "  -7.2182852e-01  4.9571118e-01]\n",
            " [-4.9153706e-01  1.1643150e-01 -5.6267130e-01 -5.2448016e-01\n",
            "   3.7061453e-01  2.8449586e-01 -1.3807009e-01 -3.4932166e-01\n",
            "   6.5572429e-01 -6.2116090e-02]\n",
            " [-2.1777195e-01  3.0385479e-02 -3.3300677e-01  3.2613623e-01\n",
            "   6.9300249e-02 -6.0197842e-01  3.0260032e-01 -1.6696167e-01\n",
            "  -1.3903384e-02 -1.1725024e-01]\n",
            " [-9.9444456e-02 -3.2235616e-01 -3.0703342e-02 -3.5129061e-01\n",
            "  -3.6713251e-01  3.2734528e-01 -1.5252855e-01 -4.6774000e-01\n",
            "  -5.1744092e-01  4.4661716e-01]\n",
            " [ 1.3475031e-01  1.2264190e-01  2.0572108e-01  8.0147810e-02\n",
            "   2.0929332e-01 -5.9997398e-01 -2.4868904e-01 -3.6305055e-01\n",
            "   6.2407535e-01 -6.2219846e-01]\n",
            " [-4.9855188e-01 -1.1160127e-01 -2.6897103e-01  8.8824481e-02\n",
            "   4.7220090e-01 -1.4104208e-01 -1.6538675e-01  1.9050264e-01\n",
            "  -1.8796888e-01  3.6456417e-02]\n",
            " [ 3.2054141e-01 -1.8011057e-01  4.8086959e-01 -2.1660626e-01\n",
            "   4.2010639e-02 -7.2157748e-02 -3.3554435e-01 -5.4108900e-01\n",
            "  -5.7600868e-01 -4.3346518e-01]]\n",
            "\n",
            "Layer 5: [ 0.06482331 -0.15878737  0.12222151  0.34020585  0.1503289  -0.07618334\n",
            "  0.10241524  0.          0.15315948  0.10157543]\n",
            "\n",
            "Layer 6: [[ 0.665274  ]\n",
            " [ 0.18089573]\n",
            " [ 0.51917565]\n",
            " [-0.4802252 ]\n",
            " [-0.66858697]\n",
            " [ 0.6374595 ]\n",
            " [ 0.7313993 ]\n",
            " [ 0.19135535]\n",
            " [-0.2166968 ]\n",
            " [ 0.5369863 ]]\n",
            "\n",
            "Layer 7: [-0.11745167]\n",
            "\n"
          ]
        }
      ]
    },
    {
      "cell_type": "markdown",
      "source": [
        "### Commentaires :\n",
        "\n",
        "Les poids de modèle peuvent être visualisées à l'aide de l'attribut get_weights() de l'objet de modèle. Les poids sont stockées sous la forme d'une liste de tableaux NumPy pour chaque couche. Le premier élément est le tableau des poids et le deuxième élément est le tableau des biais.\n"
      ],
      "metadata": {
        "id": "AozVCG2KUKW9"
      }
    },
    {
      "cell_type": "markdown",
      "source": [
        "## 8. Hyperparamètres du modèle et l'impact sur l'accuracy du modèle"
      ],
      "metadata": {
        "id": "bP0GlhOqS_3g"
      }
    },
    {
      "cell_type": "code",
      "source": [
        "# 8\n",
        "\n",
        "from tensorflow.keras.models import Sequential\n",
        "from tensorflow.keras.layers import Dense\n",
        "\n",
        "model = Sequential([\n",
        "    Dense(20, activation='relu', input_shape=(X_train.shape[1],)),\n",
        "    Dense(20, activation='relu'),\n",
        "    Dense(20, activation='relu'),\n",
        "    Dense(1, activation='sigmoid')\n",
        "])\n",
        "\n",
        "model.compile(optimizer='adam', loss='binary_crossentropy', metrics=['accuracy'])\n",
        "\n",
        "history1 = model.fit(X_train, y_train, validation_data=(X_test, y_test), epochs=10, batch_size=32, verbose=1)\n",
        "\n",
        "preds1 = model.predict(X_test)\n",
        "preds1 = [1 if x>=0.5 else 0 for x in preds1]\n",
        "acc1 = accuracy_score(y_test, preds1)\n"
      ],
      "metadata": {
        "id": "QJJQvvf_MoUV",
        "colab": {
          "base_uri": "https://localhost:8080/"
        },
        "outputId": "60dde8e0-e500-482e-f5d3-7764c32ae287"
      },
      "execution_count": null,
      "outputs": [
        {
          "output_type": "stream",
          "name": "stdout",
          "text": [
            "Epoch 1/10\n",
            "322/322 [==============================] - 2s 3ms/step - loss: 0.5971 - accuracy: 0.6971 - val_loss: 0.5540 - val_accuracy: 0.7413\n",
            "Epoch 2/10\n",
            "322/322 [==============================] - 1s 2ms/step - loss: 0.5597 - accuracy: 0.7272 - val_loss: 0.5476 - val_accuracy: 0.7463\n",
            "Epoch 3/10\n",
            "322/322 [==============================] - 1s 2ms/step - loss: 0.5503 - accuracy: 0.7349 - val_loss: 0.5348 - val_accuracy: 0.7486\n",
            "Epoch 4/10\n",
            "322/322 [==============================] - 1s 2ms/step - loss: 0.5434 - accuracy: 0.7398 - val_loss: 0.5319 - val_accuracy: 0.7506\n",
            "Epoch 5/10\n",
            "322/322 [==============================] - 1s 4ms/step - loss: 0.5393 - accuracy: 0.7456 - val_loss: 0.5336 - val_accuracy: 0.7568\n",
            "Epoch 6/10\n",
            "322/322 [==============================] - 1s 3ms/step - loss: 0.5358 - accuracy: 0.7464 - val_loss: 0.5257 - val_accuracy: 0.7615\n",
            "Epoch 7/10\n",
            "322/322 [==============================] - 1s 2ms/step - loss: 0.5339 - accuracy: 0.7496 - val_loss: 0.5276 - val_accuracy: 0.7615\n",
            "Epoch 8/10\n",
            "322/322 [==============================] - 1s 2ms/step - loss: 0.5318 - accuracy: 0.7511 - val_loss: 0.5238 - val_accuracy: 0.7611\n",
            "Epoch 9/10\n",
            "322/322 [==============================] - 1s 2ms/step - loss: 0.5308 - accuracy: 0.7532 - val_loss: 0.5284 - val_accuracy: 0.7646\n",
            "Epoch 10/10\n",
            "322/322 [==============================] - 1s 2ms/step - loss: 0.5304 - accuracy: 0.7520 - val_loss: 0.5228 - val_accuracy: 0.7618\n",
            "81/81 [==============================] - 0s 928us/step\n"
          ]
        }
      ]
    },
    {
      "cell_type": "code",
      "source": [
        "from tensorflow.keras.models import Sequential\n",
        "from tensorflow.keras.layers import Dense\n",
        "\n",
        "model = Sequential([\n",
        "    Dense(10, activation='tanh', input_shape=(X_train.shape[1],)),\n",
        "    Dense(10, activation='tanh'),\n",
        "    Dense(10, activation='tanh'),\n",
        "    Dense(10, activation='tanh'),\n",
        "    Dense(1, activation='sigmoid')\n",
        "])\n",
        "\n",
        "model.compile(optimizer='rmsprop', loss='binary_crossentropy', metrics=['accuracy'])\n",
        "\n",
        "history2 = model.fit(X_train, y_train, validation_data=(X_test, y_test), epochs=20, batch_size=64, verbose=1)\n",
        "\n",
        "preds2 = model.predict(X_test)\n",
        "preds2 = [1 if x>=0.5 else 0 for x in preds2]\n",
        "acc2 = accuracy_score(y_test, preds2)\n"
      ],
      "metadata": {
        "id": "q8e_t2RpM-nY",
        "colab": {
          "base_uri": "https://localhost:8080/"
        },
        "outputId": "adf8fe68-4f48-42ae-8c42-982443619ec9"
      },
      "execution_count": null,
      "outputs": [
        {
          "output_type": "stream",
          "name": "stdout",
          "text": [
            "Epoch 1/20\n",
            "161/161 [==============================] - 1s 3ms/step - loss: 0.5996 - accuracy: 0.6877 - val_loss: 0.5574 - val_accuracy: 0.7277\n",
            "Epoch 2/20\n",
            "161/161 [==============================] - 0s 2ms/step - loss: 0.5650 - accuracy: 0.7175 - val_loss: 0.5460 - val_accuracy: 0.7374\n",
            "Epoch 3/20\n",
            "161/161 [==============================] - 0s 2ms/step - loss: 0.5566 - accuracy: 0.7277 - val_loss: 0.5423 - val_accuracy: 0.7413\n",
            "Epoch 4/20\n",
            "161/161 [==============================] - 0s 2ms/step - loss: 0.5541 - accuracy: 0.7298 - val_loss: 0.5396 - val_accuracy: 0.7424\n",
            "Epoch 5/20\n",
            "161/161 [==============================] - 0s 2ms/step - loss: 0.5504 - accuracy: 0.7373 - val_loss: 0.5388 - val_accuracy: 0.7405\n",
            "Epoch 6/20\n",
            "161/161 [==============================] - 0s 2ms/step - loss: 0.5478 - accuracy: 0.7400 - val_loss: 0.5324 - val_accuracy: 0.7545\n",
            "Epoch 7/20\n",
            "161/161 [==============================] - 0s 2ms/step - loss: 0.5458 - accuracy: 0.7402 - val_loss: 0.5309 - val_accuracy: 0.7514\n",
            "Epoch 8/20\n",
            "161/161 [==============================] - 0s 2ms/step - loss: 0.5441 - accuracy: 0.7432 - val_loss: 0.5296 - val_accuracy: 0.7510\n",
            "Epoch 9/20\n",
            "161/161 [==============================] - 0s 2ms/step - loss: 0.5425 - accuracy: 0.7426 - val_loss: 0.5268 - val_accuracy: 0.7572\n",
            "Epoch 10/20\n",
            "161/161 [==============================] - 0s 2ms/step - loss: 0.5414 - accuracy: 0.7452 - val_loss: 0.5264 - val_accuracy: 0.7576\n",
            "Epoch 11/20\n",
            "161/161 [==============================] - 0s 2ms/step - loss: 0.5407 - accuracy: 0.7454 - val_loss: 0.5267 - val_accuracy: 0.7591\n",
            "Epoch 12/20\n",
            "161/161 [==============================] - 0s 2ms/step - loss: 0.5392 - accuracy: 0.7477 - val_loss: 0.5253 - val_accuracy: 0.7618\n",
            "Epoch 13/20\n",
            "161/161 [==============================] - 0s 2ms/step - loss: 0.5389 - accuracy: 0.7462 - val_loss: 0.5257 - val_accuracy: 0.7615\n",
            "Epoch 14/20\n",
            "161/161 [==============================] - 0s 2ms/step - loss: 0.5375 - accuracy: 0.7481 - val_loss: 0.5253 - val_accuracy: 0.7603\n",
            "Epoch 15/20\n",
            "161/161 [==============================] - 0s 2ms/step - loss: 0.5369 - accuracy: 0.7509 - val_loss: 0.5264 - val_accuracy: 0.7626\n",
            "Epoch 16/20\n",
            "161/161 [==============================] - 0s 2ms/step - loss: 0.5367 - accuracy: 0.7491 - val_loss: 0.5240 - val_accuracy: 0.7630\n",
            "Epoch 17/20\n",
            "161/161 [==============================] - 0s 2ms/step - loss: 0.5361 - accuracy: 0.7511 - val_loss: 0.5240 - val_accuracy: 0.7653\n",
            "Epoch 18/20\n",
            "161/161 [==============================] - 0s 2ms/step - loss: 0.5355 - accuracy: 0.7497 - val_loss: 0.5233 - val_accuracy: 0.7626\n",
            "Epoch 19/20\n",
            "161/161 [==============================] - 0s 2ms/step - loss: 0.5353 - accuracy: 0.7497 - val_loss: 0.5262 - val_accuracy: 0.7603\n",
            "Epoch 20/20\n",
            "161/161 [==============================] - 0s 2ms/step - loss: 0.5347 - accuracy: 0.7508 - val_loss: 0.5238 - val_accuracy: 0.7657\n",
            "81/81 [==============================] - 0s 1ms/step\n"
          ]
        }
      ]
    },
    {
      "cell_type": "code",
      "source": [
        "from tensorflow.keras.models import Sequential\n",
        "from tensorflow.keras.layers import Dense\n",
        "\n",
        "model = Sequential([\n",
        "    Dense(10, activation='tanh', input_shape=(X_train.shape[1],)),\n",
        "    Dense(10, activation='tanh'),\n",
        "    Dense(10, activation='tanh'),\n",
        "    Dense(10, activation='tanh'),\n",
        "    Dense(1, activation='sigmoid')\n",
        "])\n",
        "\n",
        "model.compile(optimizer='rmsprop', loss='binary_crossentropy', metrics=['accuracy'])\n",
        "\n",
        "history2 = model.fit(X_train, y_train, validation_data=(X_test, y_test), epochs=20, batch_size=64, verbose=1)\n",
        "\n",
        "preds2 = model.predict(X_test)\n",
        "preds2 = [1 if x>=0.5 else 0 for x in preds2]\n",
        "acc2 = accuracy_score(y_test, preds2)\n"
      ],
      "metadata": {
        "id": "J99CooqTNAlZ",
        "colab": {
          "base_uri": "https://localhost:8080/"
        },
        "outputId": "46d64aa2-e380-469c-80c2-f5633879c938"
      },
      "execution_count": null,
      "outputs": [
        {
          "output_type": "stream",
          "name": "stdout",
          "text": [
            "Epoch 1/20\n",
            "161/161 [==============================] - 1s 3ms/step - loss: 0.6071 - accuracy: 0.6822 - val_loss: 0.5543 - val_accuracy: 0.7358\n",
            "Epoch 2/20\n",
            "161/161 [==============================] - 0s 3ms/step - loss: 0.5641 - accuracy: 0.7215 - val_loss: 0.5448 - val_accuracy: 0.7451\n",
            "Epoch 3/20\n",
            "161/161 [==============================] - 0s 2ms/step - loss: 0.5564 - accuracy: 0.7307 - val_loss: 0.5394 - val_accuracy: 0.7502\n",
            "Epoch 4/20\n",
            "161/161 [==============================] - 0s 2ms/step - loss: 0.5516 - accuracy: 0.7309 - val_loss: 0.5335 - val_accuracy: 0.7549\n",
            "Epoch 5/20\n",
            "161/161 [==============================] - 0s 2ms/step - loss: 0.5481 - accuracy: 0.7364 - val_loss: 0.5343 - val_accuracy: 0.7549\n",
            "Epoch 6/20\n",
            "161/161 [==============================] - 0s 2ms/step - loss: 0.5450 - accuracy: 0.7394 - val_loss: 0.5291 - val_accuracy: 0.7564\n",
            "Epoch 7/20\n",
            "161/161 [==============================] - 0s 2ms/step - loss: 0.5422 - accuracy: 0.7408 - val_loss: 0.5284 - val_accuracy: 0.7595\n",
            "Epoch 8/20\n",
            "161/161 [==============================] - 0s 2ms/step - loss: 0.5403 - accuracy: 0.7430 - val_loss: 0.5271 - val_accuracy: 0.7607\n",
            "Epoch 9/20\n",
            "161/161 [==============================] - 0s 2ms/step - loss: 0.5392 - accuracy: 0.7449 - val_loss: 0.5273 - val_accuracy: 0.7560\n",
            "Epoch 10/20\n",
            "161/161 [==============================] - 0s 2ms/step - loss: 0.5382 - accuracy: 0.7460 - val_loss: 0.5258 - val_accuracy: 0.7618\n",
            "Epoch 11/20\n",
            "161/161 [==============================] - 0s 2ms/step - loss: 0.5368 - accuracy: 0.7483 - val_loss: 0.5254 - val_accuracy: 0.7622\n",
            "Epoch 12/20\n",
            "161/161 [==============================] - 0s 2ms/step - loss: 0.5364 - accuracy: 0.7481 - val_loss: 0.5257 - val_accuracy: 0.7603\n",
            "Epoch 13/20\n",
            "161/161 [==============================] - 0s 2ms/step - loss: 0.5357 - accuracy: 0.7484 - val_loss: 0.5251 - val_accuracy: 0.7638\n",
            "Epoch 14/20\n",
            "161/161 [==============================] - 0s 2ms/step - loss: 0.5351 - accuracy: 0.7487 - val_loss: 0.5236 - val_accuracy: 0.7607\n",
            "Epoch 15/20\n",
            "161/161 [==============================] - 0s 2ms/step - loss: 0.5349 - accuracy: 0.7491 - val_loss: 0.5265 - val_accuracy: 0.7603\n",
            "Epoch 16/20\n",
            "161/161 [==============================] - 0s 2ms/step - loss: 0.5347 - accuracy: 0.7499 - val_loss: 0.5239 - val_accuracy: 0.7626\n",
            "Epoch 17/20\n",
            "161/161 [==============================] - 1s 4ms/step - loss: 0.5341 - accuracy: 0.7481 - val_loss: 0.5238 - val_accuracy: 0.7626\n",
            "Epoch 18/20\n",
            "161/161 [==============================] - 0s 2ms/step - loss: 0.5339 - accuracy: 0.7504 - val_loss: 0.5235 - val_accuracy: 0.7657\n",
            "Epoch 19/20\n",
            "161/161 [==============================] - 0s 2ms/step - loss: 0.5336 - accuracy: 0.7514 - val_loss: 0.5299 - val_accuracy: 0.7533\n",
            "Epoch 20/20\n",
            "161/161 [==============================] - 0s 2ms/step - loss: 0.5331 - accuracy: 0.7525 - val_loss: 0.5229 - val_accuracy: 0.7692\n",
            "81/81 [==============================] - 0s 897us/step\n"
          ]
        }
      ]
    },
    {
      "cell_type": "markdown",
      "source": [
        "### Commentaires :\n",
        "\n",
        "Le meilleur modèle est celui avec la configuration 3 avec une accuracy de 0.7525.\n"
      ],
      "metadata": {
        "id": "avvbQbRoUQa-"
      }
    },
    {
      "cell_type": "markdown",
      "source": [
        "## 9. Sauvegarde du modèle et chargement du modèle"
      ],
      "metadata": {
        "id": "55SuT0aQTZH0"
      }
    },
    {
      "cell_type": "code",
      "source": [
        "# 9\n",
        "\n",
        "# Sauvegarder le modèle\n",
        "model.save('modele_deeplearning')\n",
        "\n",
        "# Charger le modèle\n",
        "from tensorflow.keras.models import load_model\n",
        "model = load_model('modele_deeplearning')\n"
      ],
      "metadata": {
        "id": "Lx_4m-czNCeH",
        "colab": {
          "base_uri": "https://localhost:8080/"
        },
        "outputId": "ba6b2b36-b2f2-48b8-f323-ad6da12d7fe3"
      },
      "execution_count": null,
      "outputs": [
        {
          "output_type": "stream",
          "name": "stderr",
          "text": [
            "WARNING:absl:Found untraced functions such as _update_step_xla while saving (showing 1 of 1). These functions will not be directly callable after loading.\n"
          ]
        }
      ]
    },
    {
      "cell_type": "markdown",
      "source": [
        "### Commentaires :\n",
        "\n",
        "Pour enregistrer le modèle, nous utilisons la méthode save() de l'objet model, qui spécifie le nom du fichier dans lequel le modèle sera enregistré. Nous utilisons ensuite la méthode load_model() de la bibliothèque tensorflow.keras.models pour charger le modèle enregistré, qui spécifie le chemin d'accès au fichier enregistré.\n",
        "\n"
      ],
      "metadata": {
        "id": "0-cOTrHOURaI"
      }
    }
  ],
  "metadata": {
    "colab": {
      "provenance": [],
      "include_colab_link": true
    },
    "kernelspec": {
      "display_name": "Python 3",
      "name": "python3"
    },
    "language_info": {
      "name": "python"
    }
  },
  "nbformat": 4,
  "nbformat_minor": 0
}